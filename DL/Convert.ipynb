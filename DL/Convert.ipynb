{
 "cells": [
  {
   "cell_type": "code",
   "execution_count": 5,
   "metadata": {},
   "outputs": [
    {
     "name": "stderr",
     "output_type": "stream",
     "text": [
      "100%|██████████| 33575/33575 [36:31<00:00, 15.32it/s]\n",
      "100%|██████████| 33575/33575 [08:27<00:00, 66.18it/s]\n"
     ]
    }
   ],
   "source": [
    "import rasterio\n",
    "import numpy as np\n",
    "import os\n",
    "import shutil\n",
    "import cv2\n",
    "from glob import glob\n",
    "from tqdm import tqdm\n",
    "\n",
    "IMAGE = './dataset/train_img/*.tif'\n",
    "MASK = './dataset/train_mask/*.tif'\n",
    "\n",
    "OUTPUT_IMG = './dataset/images/'\n",
    "OUTPUT_MASK = './dataset/annotations/'\n",
    "\n",
    "if os.path.exists(OUTPUT_IMG): shutil.rmtree(OUTPUT_IMG)\n",
    "if os.path.exists(OUTPUT_MASK): shutil.rmtree(OUTPUT_MASK)\n",
    "os.mkdir(OUTPUT_IMG)\n",
    "os.mkdir(OUTPUT_MASK)\n",
    "\n",
    "MAX_PIXEL_VALUE = 65535 # Max. pixel value, used to normalize the image\n",
    "\n",
    "def get_img_762bands(path):\n",
    "    img = rasterio.open(path).read((7,6,2)).transpose((1, 2, 0))    \n",
    "    img = np.float32(img)/MAX_PIXEL_VALUE\n",
    "    \n",
    "    return img\n",
    "\n",
    "def get_mask_arr(path):\n",
    "    img = rasterio.open(path).read().transpose((1, 2, 0))\n",
    "    seg = np.float32(img)\n",
    "    return seg\n",
    "\n",
    "for img_path in tqdm(glob(IMAGE)):\n",
    "    img = get_img_762bands(img_path)\n",
    "    img = np.array(img * 255, dtype=np.uint8)\n",
    "    cv2.imwrite(os.path.join(OUTPUT_IMG, img_path.split('/')[-1].replace('tif', 'png').replace('_img', '')), cv2.cvtColor(img, cv2.COLOR_RGB2BGR))\n",
    "\n",
    "for mask_path in tqdm(glob(MASK)):\n",
    "    mask = get_mask_arr(mask_path)\n",
    "    mask = np.array(mask, dtype=np.uint8)\n",
    "    cv2.imwrite(os.path.join(OUTPUT_MASK, mask_path.split('/')[-1].replace('tif', 'png').replace('_mask', '')), mask)"
   ]
  }
 ],
 "metadata": {
  "kernelspec": {
   "display_name": "fire",
   "language": "python",
   "name": "python3"
  },
  "language_info": {
   "codemirror_mode": {
    "name": "ipython",
    "version": 3
   },
   "file_extension": ".py",
   "mimetype": "text/x-python",
   "name": "python",
   "nbconvert_exporter": "python",
   "pygments_lexer": "ipython3",
   "version": "3.8.19"
  }
 },
 "nbformat": 4,
 "nbformat_minor": 2
}
